{
 "cells": [
  {
   "cell_type": "code",
   "metadata": {},
   "source": [
    "import pandas as pd\n",
    "import numpy as np\n",
    "import matplotlib.pyplot as plt\n",
    "import seaborn as sns\n",
    "from sklearn.preprocessing import StandardScaler\n",
    "from sklearn.cluster import KMeans, AgglomerativeClustering\n",
    "from scipy.cluster.hierarchy import dendrogram, linkage\n",
    "\n",
    "df = pd.read_csv('../data/heart_disease_clean.csv')\n",
    "X = df.drop('target', axis=1)\n",
    "y = df['target']\n",
    "\n",
    "scaler = StandardScaler()\n",
    "X_scaled = scaler.fit_transform(X)\n",
    "\n",
    "# K-Means Clustering\n",
    "inertia = []\n",
    "for k in range(1,11):\n",
    "    km = KMeans(n_clusters=k, random_state=42)\n",
    "    km.fit(X_scaled)\n",
    "    inertia.append(km.inertia_)\n",
    "\n",
    "plt.figure(figsize=(8,5))\n",
    "plt.plot(range(1,11), inertia, marker='o')\n",
    "plt.xlabel('Number of clusters')\n",
    "plt.ylabel('Inertia')\n",
    "plt.title('Elbow Method for K-Means')\n",
    "\n",
    "k_opt = 3\n",
    "kmeans = KMeans(n_clusters=k_opt, random_state=42)\n",
    "kmeans_labels = kmeans.fit_predict(X_scaled)\n",
    "plt.figure(figsize=(8,6))\n",
    "plt.scatter(X_scaled[:,0], X_scaled[:,1], c=kmeans_labels, cmap='coolwarm', alpha=0.6)\n",
    "plt.title('K-Means Clustering')\n",
    "\n",
    "# Hierarchical Clustering\n",
    "linked = linkage(X_scaled, method='ward')\n",
    "plt.figure(figsize=(12,6))\n",
    "dendrogram(linked, truncate_mode='level', p=5)\n",
    "plt.title('Hierarchical Clustering Dendrogram')\n",
    "plt.xlabel('Samples')\n",
    "plt.ylabel('Distance')\n",
    "\n",
    "agglo = AgglomerativeClustering(n_clusters=3)\n",
    "agglo_labels = agglo.fit_predict(X_scaled)\n",
    "plt.figure(figsize=(8,6))\n",
    "plt.scatter(X_scaled[:,0], X_scaled[:,1], c=agglo_labels, cmap='coolwarm', alpha=0.6)\n",
    "plt.title('Agglomerative Clustering')\n"
   ],
   "outputs": [],
   "execution_count": null
  }
 ],
 "metadata": {
  "kernelspec": {
   "display_name": "Python 3",
   "language": "python",
   "name": "python3"
  },
  "language_info": {
   "name": "python",
   "pygments_lexer": "ipython3"
  }
 },
 "nbformat": 4,
 "nbformat_minor": 5
}