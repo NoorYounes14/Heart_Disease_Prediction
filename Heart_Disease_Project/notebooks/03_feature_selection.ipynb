{
 "cells": [
  {
   "cell_type": "code",
   "metadata": {},
   "source": [
    "import pandas as pd\n",
    "import numpy as np\n",
    "from sklearn.ensemble import RandomForestClassifier\n",
    "from sklearn.feature_selection import RFE, SelectKBest, chi2, mutual_info_classif\n",
    "from sklearn.preprocessing import MinMaxScaler\n",
    "from sklearn.linear_model import LogisticRegression\n",
    "import matplotlib.pyplot as plt\n",
    "\n",
    "df = pd.read_csv('../data/heart_disease_clean.csv')\n",
    "X = df.drop(columns=['target'])\n",
    "y = df['target']\n",
    "\n",
    "rf = RandomForestClassifier(random_state=42)\n",
    "rf.fit(X, y)\n",
    "importances = pd.Series(rf.feature_importances_, index=X.columns).sort_values(ascending=False)\n",
    "importances.plot(kind='bar', figsize=(10,4), title='Feature Importances (Random Forest)')\n",
    "\n",
    "lr = LogisticRegression(max_iter=1000)\n",
    "rfe = RFE(lr, n_features_to_select=8)\n",
    "rfe.fit(X, y)\n",
    "selected_rfe = X.columns[rfe.support_].tolist()\n",
    "print('RFE selected:', selected_rfe)\n",
    "\n",
    "X_nonneg = MinMaxScaler().fit_transform(X)\n",
    "chi2_selector = SelectKBest(score_func=chi2, k=8)\n",
    "chi2_selector.fit(X_nonneg, y)\n",
    "chi2_selected = X.columns[chi2_selector.get_support()]\n",
    "print('Chi2 selected:', list(chi2_selected))\n",
    "\n",
    "mi = SelectKBest(score_func=mutual_info_classif, k=8)\n",
    "mi.fit(X, y)\n",
    "mi_selected = X.columns[mi.get_support()]\n",
    "print('Mutual Information selected:', list(mi_selected))\n"
   ],
   "outputs": [],
   "execution_count": null
  }
 ],
 "metadata": {
  "kernelspec": {
   "display_name": "Python 3",
   "language": "python",
   "name": "python3"
  },
  "language_info": {
   "name": "python",
   "pygments_lexer": "ipython3"
  }
 },
 "nbformat": 4,
 "nbformat_minor": 5
}