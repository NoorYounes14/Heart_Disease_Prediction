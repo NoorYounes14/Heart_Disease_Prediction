import pandas as pd
import numpy as np
import matplotlib.pyplot as plt
import seaborn as sns

df = pd.read_csv("../data/heart_disease_clean.csv")
df.head()
df.info()
df.describe()

df.hist(figsize=(12,10))
plt.tight_layout()

plt.figure(figsize=(10,8))
sns.heatmap(df.corr(), annot=True, fmt=".2f", cmap='coolwarm')
plt.title("Correlation Matrix")

numeric_cols = df.select_dtypes(include=[np.number]).columns.tolist()
for col in numeric_cols:
    if col != 'target':
        plt.figure()
        sns.boxplot(x='target', y=col, data=df)
        plt.title(f"{col} by target")